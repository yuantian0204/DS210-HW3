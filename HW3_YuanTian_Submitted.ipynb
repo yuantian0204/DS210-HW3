{
 "cells": [
  {
   "cell_type": "markdown",
   "id": "29d5a138",
   "metadata": {},
   "source": [
    "## Question 1"
   ]
  },
  {
   "cell_type": "code",
   "execution_count": 40,
   "id": "e113e7fe",
   "metadata": {},
   "outputs": [
    {
     "name": "stdout",
     "output_type": "stream",
     "text": [
      "['C' 'A' 4 'D']\n"
     ]
    }
   ],
   "source": [
    "#(a)\n",
    "import pandas as pd\n",
    "import numpy as np\n",
    "import random\n",
    "\n",
    "df_example = pd.DataFrame(\n",
    "    {\n",
    "        '1': [1,2,3,4,5],\n",
    "        '2': ['A', 'B', 'C', 'D', 'E'],\n",
    "    }\n",
    ")\n",
    "t = 4\n",
    "if len(df_example) >= t:\n",
    "    sample = np.random.choice(df_example.values.flatten(), t, replace=False) #convert panda to a numpy array so we can use random.choice\n",
    "    print(sample)\n",
    "else:\n",
    "    print('t need to be less than or equal to k')"
   ]
  },
  {
   "cell_type": "code",
   "execution_count": 41,
   "id": "e0d5887e",
   "metadata": {},
   "outputs": [],
   "source": [
    "#(b)\n",
    "# Create a list of 18 car names\n",
    "car_names = [\"Fiat\", \"Ferrari\", \"Audi\", \"Toyota\", \"Honda\", \"Tesla\", \"Ford\", \"Chevrolet\", \"Porsche\", \"Bentley\", \"BMW\", \"Nissan\", \"Hyundai\", \"Volkswagen\", \"Mercedes-Benz\", \"Kia\", \"Lexus\", \"Mazda\"]\n",
    "\n",
    "df1 = pd.DataFrame({'Name': random.sample(car_names, 10),\n",
    "                    'MPG': [random.uniform(5, 50) for _ in range(10)]})\n",
    "\n",
    "df2 = pd.DataFrame({'Name': random.sample(car_names, 10),\n",
    "                    'SecondsTo60': [random.uniform(1, 20) for _ in range(10)]})"
   ]
  },
  {
   "cell_type": "code",
   "execution_count": 42,
   "id": "3e4190e6",
   "metadata": {},
   "outputs": [
    {
     "name": "stdout",
     "output_type": "stream",
     "text": [
      "         Name        MPG  SecondsTo60\n",
      "0       Lexus  36.571095     2.425981\n",
      "1     Ferrari  26.842825    18.889672\n",
      "2     Porsche  14.087200          NaN\n",
      "3        Fiat  43.739121     4.391296\n",
      "4   Chevrolet  11.296228          NaN\n",
      "5      Toyota  15.529265    19.140341\n",
      "6       Tesla   6.576222    18.832634\n",
      "7      Nissan  44.682927          NaN\n",
      "8        Audi   6.090674     6.694843\n",
      "9        Ford  32.861212          NaN\n",
      "10        BMW        NaN     9.809236\n",
      "11      Mazda        NaN    15.578504\n",
      "12    Hyundai        NaN    16.458887\n",
      "13      Honda        NaN     1.220328\n"
     ]
    }
   ],
   "source": [
    "#(c)\n",
    "df = pd.merge(df1, df2, on='Name', how='outer')\n",
    "print(df)"
   ]
  },
  {
   "cell_type": "code",
   "execution_count": 43,
   "id": "a6e9d527",
   "metadata": {},
   "outputs": [
    {
     "name": "stdout",
     "output_type": "stream",
     "text": [
      "         Name        MPG  SecondsTo60\n",
      "0       Lexus  36.571095     2.425981\n",
      "1     Ferrari  26.842825    18.889672\n",
      "2     Porsche  14.087200    19.140341\n",
      "3        Fiat  43.739121     4.391296\n",
      "4   Chevrolet  11.296228    19.140341\n",
      "5      Toyota  15.529265    19.140341\n",
      "6       Tesla   6.576222    18.832634\n",
      "7      Nissan  44.682927    19.140341\n",
      "8        Audi   6.090674     6.694843\n",
      "9        Ford  32.861212    19.140341\n",
      "10        BMW  23.827677     9.809236\n",
      "11      Mazda  23.827677    15.578504\n",
      "12    Hyundai  23.827677    16.458887\n",
      "13      Honda  23.827677     1.220328\n"
     ]
    }
   ],
   "source": [
    "#(d)\n",
    "df['MPG'].fillna(df['MPG'].mean(), inplace=True)\n",
    "df['SecondsTo60'].fillna(df['SecondsTo60'].max(), inplace=True)\n",
    "print(df)"
   ]
  },
  {
   "cell_type": "code",
   "execution_count": 44,
   "id": "d41b7d57",
   "metadata": {},
   "outputs": [
    {
     "name": "stdout",
     "output_type": "stream",
     "text": [
      "                 Name        MPG  SecondsTo60\n",
      "0       Awesome Lexus  36.571095     2.425981\n",
      "1     Awesome Ferrari  26.842825    18.889672\n",
      "2     Awesome Porsche  14.087200    19.140341\n",
      "3        Awesome Fiat  43.739121     4.391296\n",
      "4   Awesome Chevrolet  11.296228    19.140341\n",
      "5      Awesome Toyota  15.529265    19.140341\n",
      "6       Awesome Tesla   6.576222    18.832634\n",
      "7      Awesome Nissan  44.682927    19.140341\n",
      "8        Awesome Audi   6.090674     6.694843\n",
      "9        Awesome Ford  32.861212    19.140341\n",
      "10        Awesome BMW  23.827677     9.809236\n",
      "11      Awesome Mazda  23.827677    15.578504\n",
      "12    Awesome Hyundai  23.827677    16.458887\n",
      "13      Awesome Honda  23.827677     1.220328\n"
     ]
    }
   ],
   "source": [
    "#(e)\n",
    "df['Name'] = 'Awesome ' + df['Name']\n",
    "print(df)"
   ]
  },
  {
   "cell_type": "code",
   "execution_count": 45,
   "id": "db685135",
   "metadata": {},
   "outputs": [
    {
     "name": "stdout",
     "output_type": "stream",
     "text": [
      "              Name        MPG  SecondsTo60\n",
      "0    Awesome Lexus  36.571095     2.425981\n",
      "1  Awesome Ferrari  26.842825    18.889672\n",
      "3     Awesome Fiat  43.739121     4.391296\n",
      "7   Awesome Nissan  44.682927    19.140341\n",
      "9     Awesome Ford  32.861212    19.140341\n"
     ]
    }
   ],
   "source": [
    "#(f)\n",
    "median_MPG = df['MPG'].median()\n",
    "df_eco = df[df['MPG'] > median_MPG]\n",
    "print(df_eco)"
   ]
  },
  {
   "cell_type": "markdown",
   "id": "b38c02fb",
   "metadata": {},
   "source": [
    "## Question 2\n"
   ]
  },
  {
   "cell_type": "code",
   "execution_count": 3,
   "id": "d82c1743",
   "metadata": {},
   "outputs": [],
   "source": [
    "#create two csv files for ingredients and pastries\n",
    "\n",
    "import pandas as pd\n",
    "import numpy as np\n",
    "from scipy.optimize import linprog\n",
    "import csv\n",
    "\n",
    "ingredients_data = [\n",
    "    [\"Yeast\", \"Flour\", \"Sugar\"],\n",
    "    [57.5, 112.5, 245]\n",
    "] #create the data for ingredients\n",
    "pastries_data = [\n",
    "    {\"Name\": \"Apple Pie\", \"Price\": 2.99, \"Yeast\": 0, \"Flour\": 0.75, \"Sugar\": 1.50},\n",
    "    {\"Name\": \"Croissant\", \"Price\": 2.50, \"Yeast\": 0.5, \"Flour\": 1.5, \"Sugar\": 0.25},\n",
    "    {\"Name\": \"Poppy seed roll\", \"Price\": 5.99, \"Yeast\": 1.15, \"Flour\": 1.5, \"Sugar\": 0.75}\n",
    "] #create the data for pastries\n",
    "\n",
    "with open('ingredients.csv', mode=\"w\", newline='') as file:\n",
    "    writer = csv.writer(file)\n",
    "    for row in ingredients_data: #write in the data\n",
    "        writer.writerow(row)\n",
    "\n",
    "field_names = [\"Name\", \"Price\", \"Yeast\", \"Flour\", \"Sugar\"] #create the column names\n",
    "with open('pastries.csv', mode=\"w\", newline='') as file:\n",
    "    writer = csv.DictWriter(file, fieldnames=field_names)\n",
    "    writer.writeheader()\n",
    "    for row in pastries_data: #write in the data\n",
    "        writer.writerow(row)"
   ]
  },
  {
   "cell_type": "code",
   "execution_count": 4,
   "id": "3f16d352",
   "metadata": {},
   "outputs": [
    {
     "name": "stdout",
     "output_type": "stream",
     "text": [
      "   Yeast  Flour  Sugar\n",
      "0   57.5  112.5    245\n",
      "              Name  Price  Yeast  Flour  Sugar\n",
      "0        Apple Pie   2.99   0.00   0.75   1.50\n",
      "1        Croissant   2.50   0.50   1.50   0.25\n",
      "2  Poppy seed roll   5.99   1.15   1.50   0.75\n"
     ]
    }
   ],
   "source": [
    "#Read in the csv for both ingredients and pastries\n",
    "ingredients_df = pd.read_csv('ingredients.csv')\n",
    "available_yeast = ingredients_df['Yeast'][0]\n",
    "available_flour = ingredients_df['Flour'][0]\n",
    "available_sugar = ingredients_df['Sugar'][0]\n",
    "\n",
    "pastries_df = pd.read_csv('pastries.csv')\n",
    "print(ingredients_df)\n",
    "print(pastries_df)"
   ]
  },
  {
   "cell_type": "code",
   "execution_count": 5,
   "id": "96eee7dc",
   "metadata": {},
   "outputs": [
    {
     "name": "stdout",
     "output_type": "stream",
     "text": [
      "[(0, None), (0, None), (0, None)]\n",
      "The max profit is 449.00 and can be achieved by producing:\n",
      "* Apple Pie: 50.00 pieces\n",
      "* Croissant: 0.00 pieces\n",
      "* Poppy seed roll: 50.00 pieces\n"
     ]
    }
   ],
   "source": [
    "#Optimization \n",
    "c = -pastries_df['Price'].values# Define the coefficients for the objective function (negate for maximization)\n",
    "\n",
    "A = np.vstack([pastries_df['Yeast'].values, pastries_df['Flour'].values, pastries_df['Sugar'].values])\n",
    "b = np.array([available_yeast, available_flour, available_sugar]) # Define the coefficients for the inequality constraints\n",
    "\n",
    "x_bounds = [(0, None)] * len(pastries_df) # Define bounds for decision variables (number of pastries)\n",
    "print(x_bounds) #一共三种pastries，每种都要大于等于0 （x>=o）\n",
    "\n",
    "result = linprog(c, A_ub=A, b_ub=b, bounds=x_bounds, method='highs')# Solve the linear programming problem\n",
    "\n",
    "solution = result.x # Extract the solution\n",
    "\n",
    "total_profit = -result.fun # Calculate the total profit\n",
    "\n",
    "# Print the results\n",
    "print(\"The max profit is {:.2f} and can be achieved by producing:\".format(total_profit))\n",
    "for i, pastry in enumerate(pastries_df['Name']): #print each type of pastry\n",
    "        print(\"* {}: {:.2f} pieces\".format(pastry, solution[i]))"
   ]
  },
  {
   "cell_type": "code",
   "execution_count": null,
   "id": "4c6fd19b",
   "metadata": {},
   "outputs": [],
   "source": []
  }
 ],
 "metadata": {
  "kernelspec": {
   "display_name": "Python 3 (ipykernel)",
   "language": "python",
   "name": "python3"
  },
  "language_info": {
   "codemirror_mode": {
    "name": "ipython",
    "version": 3
   },
   "file_extension": ".py",
   "mimetype": "text/x-python",
   "name": "python",
   "nbconvert_exporter": "python",
   "pygments_lexer": "ipython3",
   "version": "3.11.4"
  }
 },
 "nbformat": 4,
 "nbformat_minor": 5
}
